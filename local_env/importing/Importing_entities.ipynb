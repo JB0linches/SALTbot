{
 "cells": [
  {
   "cell_type": "markdown",
   "metadata": {
    "id": "9U4E-RU-9TJQ"
   },
   "source": [
    "# Wikibase Updater Bot\n",
    "This notebook contains a simple implementation that allows to download data from Wikidata, modify it, and upload it again either to Wikidata or to a locally instanced wikibase. It uses WikibaseIntegrator as its main tool for downloading and uploading entities. See https://github.com/LeMyst/WikibaseIntegrator and https://wikibaseintegrator.readthedocs.io/en/latest/ for more info.\n",
    "\n",
    "Some parts of this notebook also require to have a local wikibase working. To create a local wikibase, follow the instructions at https://www.mediawiki.org/wiki/Wikibase/Docker. "
   ]
  },
  {
   "cell_type": "markdown",
   "metadata": {
    "id": "XRFKquWGtedu"
   },
   "source": [
    "## Using WikibaseIntegrator\n"
   ]
  },
  {
   "cell_type": "markdown",
   "metadata": {
    "id": "Kcbm_afsuQ_Y"
   },
   "source": [
    "### Installing and configuring WikibaseIntegrator"
   ]
  },
  {
   "cell_type": "code",
   "execution_count": 52,
   "metadata": {
    "colab": {
     "base_uri": "https://localhost:8080/"
    },
    "id": "j7pzGFk694w9",
    "outputId": "2828b9a1-047b-4f0c-c534-d5b033ccf208"
   },
   "outputs": [
    {
     "name": "stdout",
     "output_type": "stream",
     "text": [
      "Requirement already satisfied: wikidataintegrator in ./jup_nb/lib/python3.10/site-packages (0.9.27)\n",
      "Requirement already satisfied: python-dateutil in ./jup_nb/lib/python3.10/site-packages (from wikidataintegrator) (2.8.2)\n",
      "Requirement already satisfied: oauthlib in ./jup_nb/lib/python3.10/site-packages (from wikidataintegrator) (3.2.2)\n",
      "Requirement already satisfied: jsonasobj in ./jup_nb/lib/python3.10/site-packages (from wikidataintegrator) (1.3.1)\n",
      "Requirement already satisfied: mwoauth in ./jup_nb/lib/python3.10/site-packages (from wikidataintegrator) (0.3.8)\n",
      "Requirement already satisfied: pyshex in ./jup_nb/lib/python3.10/site-packages (from wikidataintegrator) (0.8.1)\n",
      "Requirement already satisfied: pandas in ./jup_nb/lib/python3.10/site-packages (from wikidataintegrator) (1.5.3)\n",
      "Requirement already satisfied: backoff in ./jup_nb/lib/python3.10/site-packages (from wikidataintegrator) (2.2.1)\n",
      "Requirement already satisfied: shexer in ./jup_nb/lib/python3.10/site-packages (from wikidataintegrator) (2.0.7)\n",
      "Requirement already satisfied: simplejson in ./jup_nb/lib/python3.10/site-packages (from wikidataintegrator) (3.18.3)\n",
      "Requirement already satisfied: requests in ./jup_nb/lib/python3.10/site-packages (from wikidataintegrator) (2.28.2)\n",
      "Requirement already satisfied: tqdm in ./jup_nb/lib/python3.10/site-packages (from wikidataintegrator) (4.65.0)\n",
      "Requirement already satisfied: six in ./jup_nb/lib/python3.10/site-packages (from mwoauth->wikidataintegrator) (1.16.0)\n",
      "Requirement already satisfied: requests-oauthlib in ./jup_nb/lib/python3.10/site-packages (from mwoauth->wikidataintegrator) (1.3.1)\n",
      "Requirement already satisfied: PyJWT>=1.0.1 in ./jup_nb/lib/python3.10/site-packages (from mwoauth->wikidataintegrator) (2.6.0)\n",
      "Requirement already satisfied: numpy>=1.21.0 in ./jup_nb/lib/python3.10/site-packages (from pandas->wikidataintegrator) (1.24.2)\n",
      "Requirement already satisfied: pytz>=2020.1 in ./jup_nb/lib/python3.10/site-packages (from pandas->wikidataintegrator) (2022.7.1)\n",
      "Requirement already satisfied: sparqlwrapper>=1.8.5 in ./jup_nb/lib/python3.10/site-packages (from pyshex->wikidataintegrator) (2.0.0)\n",
      "Requirement already satisfied: urllib3 in ./jup_nb/lib/python3.10/site-packages (from pyshex->wikidataintegrator) (1.26.14)\n",
      "Requirement already satisfied: cfgraph>=0.2.1 in ./jup_nb/lib/python3.10/site-packages (from pyshex->wikidataintegrator) (0.2.1)\n",
      "Requirement already satisfied: pyshexc==0.9.1 in ./jup_nb/lib/python3.10/site-packages (from pyshex->wikidataintegrator) (0.9.1)\n",
      "Requirement already satisfied: shexjsg>=0.8.2 in ./jup_nb/lib/python3.10/site-packages (from pyshex->wikidataintegrator) (0.8.2)\n",
      "Requirement already satisfied: chardet in ./jup_nb/lib/python3.10/site-packages (from pyshex->wikidataintegrator) (5.1.0)\n",
      "Requirement already satisfied: sparqlslurper>=0.5.1 in ./jup_nb/lib/python3.10/site-packages (from pyshex->wikidataintegrator) (0.5.1)\n",
      "Requirement already satisfied: rdflib-shim in ./jup_nb/lib/python3.10/site-packages (from pyshex->wikidataintegrator) (1.0.3)\n",
      "Requirement already satisfied: pyjsg>=0.11.10 in ./jup_nb/lib/python3.10/site-packages (from pyshexc==0.9.1->pyshex->wikidataintegrator) (0.11.10)\n",
      "Requirement already satisfied: antlr4-python3-runtime~=4.9.3 in ./jup_nb/lib/python3.10/site-packages (from pyshexc==0.9.1->pyshex->wikidataintegrator) (4.9.3)\n",
      "Requirement already satisfied: certifi>=2017.4.17 in ./jup_nb/lib/python3.10/site-packages (from requests->wikidataintegrator) (2022.12.7)\n",
      "Requirement already satisfied: charset-normalizer<4,>=2 in ./jup_nb/lib/python3.10/site-packages (from requests->wikidataintegrator) (3.0.1)\n",
      "Requirement already satisfied: idna<4,>=2.5 in ./jup_nb/lib/python3.10/site-packages (from requests->wikidataintegrator) (3.4)\n",
      "Requirement already satisfied: rdflib in ./jup_nb/lib/python3.10/site-packages (from shexer->wikidataintegrator) (6.2.0)\n",
      "Requirement already satisfied: wlighter in ./jup_nb/lib/python3.10/site-packages (from shexer->wikidataintegrator) (1.0.1)\n",
      "Requirement already satisfied: rdflib-jsonld in ./jup_nb/lib/python3.10/site-packages (from shexer->wikidataintegrator) (0.6.1)\n",
      "Requirement already satisfied: Flask in ./jup_nb/lib/python3.10/site-packages (from shexer->wikidataintegrator) (2.2.3)\n",
      "Requirement already satisfied: Flask-Cors in ./jup_nb/lib/python3.10/site-packages (from shexer->wikidataintegrator) (3.0.10)\n",
      "Requirement already satisfied: isodate in ./jup_nb/lib/python3.10/site-packages (from rdflib->shexer->wikidataintegrator) (0.6.1)\n",
      "Requirement already satisfied: pyparsing in ./jup_nb/lib/python3.10/site-packages (from rdflib->shexer->wikidataintegrator) (3.0.9)\n",
      "Requirement already satisfied: setuptools in ./jup_nb/lib/python3.10/site-packages (from rdflib->shexer->wikidataintegrator) (67.4.0)\n",
      "Requirement already satisfied: click>=8.0 in ./jup_nb/lib/python3.10/site-packages (from Flask->shexer->wikidataintegrator) (8.1.3)\n",
      "Requirement already satisfied: itsdangerous>=2.0 in ./jup_nb/lib/python3.10/site-packages (from Flask->shexer->wikidataintegrator) (2.1.2)\n",
      "Requirement already satisfied: Werkzeug>=2.2.2 in ./jup_nb/lib/python3.10/site-packages (from Flask->shexer->wikidataintegrator) (2.2.3)\n",
      "Requirement already satisfied: Jinja2>=3.0 in ./jup_nb/lib/python3.10/site-packages (from Flask->shexer->wikidataintegrator) (3.1.2)\n",
      "Requirement already satisfied: MarkupSafe>=2.0 in ./jup_nb/lib/python3.10/site-packages (from Jinja2>=3.0->Flask->shexer->wikidataintegrator) (2.1.2)\n",
      "Requirement already satisfied: wikibaseintegrator in ./jup_nb/lib/python3.10/site-packages (0.12.3)\n",
      "Requirement already satisfied: requests<2.29.0,>=2.27.1 in ./jup_nb/lib/python3.10/site-packages (from wikibaseintegrator) (2.28.2)\n",
      "Requirement already satisfied: ujson<5.8,>=5.4 in ./jup_nb/lib/python3.10/site-packages (from wikibaseintegrator) (5.7.0)\n",
      "Requirement already satisfied: backoff<2.3.0,>=1.11.1 in ./jup_nb/lib/python3.10/site-packages (from wikibaseintegrator) (2.2.1)\n",
      "Requirement already satisfied: mwoauth~=0.3.8 in ./jup_nb/lib/python3.10/site-packages (from wikibaseintegrator) (0.3.8)\n",
      "Requirement already satisfied: oauthlib~=3.2.0 in ./jup_nb/lib/python3.10/site-packages (from wikibaseintegrator) (3.2.2)\n",
      "Requirement already satisfied: requests-oauthlib~=1.3.1 in ./jup_nb/lib/python3.10/site-packages (from wikibaseintegrator) (1.3.1)\n",
      "Requirement already satisfied: six in ./jup_nb/lib/python3.10/site-packages (from mwoauth~=0.3.8->wikibaseintegrator) (1.16.0)\n",
      "Requirement already satisfied: PyJWT>=1.0.1 in ./jup_nb/lib/python3.10/site-packages (from mwoauth~=0.3.8->wikibaseintegrator) (2.6.0)\n",
      "Requirement already satisfied: certifi>=2017.4.17 in ./jup_nb/lib/python3.10/site-packages (from requests<2.29.0,>=2.27.1->wikibaseintegrator) (2022.12.7)\n",
      "Requirement already satisfied: urllib3<1.27,>=1.21.1 in ./jup_nb/lib/python3.10/site-packages (from requests<2.29.0,>=2.27.1->wikibaseintegrator) (1.26.14)\n",
      "Requirement already satisfied: charset-normalizer<4,>=2 in ./jup_nb/lib/python3.10/site-packages (from requests<2.29.0,>=2.27.1->wikibaseintegrator) (3.0.1)\n",
      "Requirement already satisfied: idna<4,>=2.5 in ./jup_nb/lib/python3.10/site-packages (from requests<2.29.0,>=2.27.1->wikibaseintegrator) (3.4)\n"
     ]
    }
   ],
   "source": [
    "!pip install wikidataintegrator\n",
    "!pip install wikibaseintegrator"
   ]
  },
  {
   "cell_type": "markdown",
   "metadata": {
    "id": "Xi7D78j6udFt"
   },
   "source": [
    "### Editing Wikidata with WikibaseIntegrator"
   ]
  },
  {
   "cell_type": "markdown",
   "metadata": {
    "id": "nUrUJY9O_kHj"
   },
   "source": [
    "This code is a brief example on how to link a scientific article and a software in wikidata. We will introduce an article-software link and a software-article link using Apache SystemDS as an example. Keep in mind that WikibaseIntegrator supports SPARQL queries using wbi_helpers.execute_sparql_query() to obtain Wikidata Qnodes."
   ]
  },
  {
   "cell_type": "markdown",
   "metadata": {},
   "source": [
    "#### Retrieve entities from Wikidata"
   ]
  },
  {
   "cell_type": "code",
   "execution_count": 54,
   "metadata": {
    "colab": {
     "base_uri": "https://localhost:8080/"
    },
    "id": "nUc-8_BW-OEw",
    "outputId": "c2bac3ff-bf45-4712-a1ff-c8fcc6b7d4c3"
   },
   "outputs": [
    {
     "name": "stdout",
     "output_type": "stream",
     "text": [
      "ARTICLE\n",
      " {'labels': {'en': {'language': 'en', 'value': 'WIDOCO: A Wizard for Documenting Ontologies'}, 'nl': {'language': 'nl', 'value': 'WIDOCO: A Wizard for Documenting Ontologies'}}, 'descriptions': {'nl': {'language': 'nl', 'value': 'wetenschappelijk artikel'}, 'uk': {'language': 'uk', 'value': 'наукова стаття, опублікована у 2017'}, 'ast': {'language': 'ast', 'value': 'artículu científicu'}}, 'aliases': {}, 'type': 'item', 'claims': {'P356': [{'mainsnak': {'snaktype': 'value', 'property': 'P356', 'datatype': 'external-id', 'datavalue': {'value': '10.1007/978-3-319-68204-4_9', 'type': 'string'}}, 'type': 'statement', 'id': 'Q59517993$4E38D98F-F087-49CC-B786-0EE7C5B8F593', 'rank': 'normal'}], 'P31': [{'mainsnak': {'snaktype': 'value', 'property': 'P31', 'datatype': 'wikibase-item', 'datavalue': {'value': {'entity-type': 'item', 'numeric-id': 13442814, 'id': 'Q13442814'}, 'type': 'wikibase-entityid'}}, 'type': 'statement', 'id': 'Q59517993$C42AF837-9F37-4366-98F8-80F67F3B8229', 'rank': 'normal'}], 'P1476': [{'mainsnak': {'snaktype': 'value', 'property': 'P1476', 'datatype': 'monolingualtext', 'datavalue': {'value': {'text': 'WIDOCO: A Wizard for Documenting Ontologies', 'language': 'en'}, 'type': 'monolingualtext'}}, 'type': 'statement', 'id': 'Q59517993$446FA696-62B9-49C4-893E-F8F7BB9EE997', 'rank': 'normal'}], 'P304': [{'mainsnak': {'snaktype': 'value', 'property': 'P304', 'datatype': 'string', 'datavalue': {'value': '94-102', 'type': 'string'}}, 'type': 'statement', 'id': 'Q59517993$09A76A4C-0639-44D5-8AD6-B45BA8320148', 'rank': 'normal'}], 'P577': [{'mainsnak': {'snaktype': 'value', 'property': 'P577', 'datatype': 'time', 'datavalue': {'value': {'time': '+2017-00-00T00:00:00Z', 'timezone': 0, 'before': 0, 'after': 0, 'precision': 9, 'calendarmodel': 'http://www.wikidata.org/entity/Q1985727'}, 'type': 'time'}}, 'type': 'statement', 'id': 'Q59517993$F90288DC-D4E9-4206-AA94-DCE9D28EE640', 'rank': 'normal'}], 'P1433': [{'mainsnak': {'snaktype': 'value', 'property': 'P1433', 'datatype': 'wikibase-item', 'datavalue': {'value': {'entity-type': 'item', 'numeric-id': 924044, 'id': 'Q924044'}, 'type': 'wikibase-entityid'}}, 'type': 'statement', 'id': 'Q59517993$07C18179-16F3-450E-8F88-EC9039C7193A', 'rank': 'normal'}], 'P50': [{'mainsnak': {'snaktype': 'value', 'property': 'P50', 'datatype': 'wikibase-item', 'datavalue': {'value': {'entity-type': 'item', 'numeric-id': 57061585, 'id': 'Q57061585'}, 'type': 'wikibase-entityid'}}, 'type': 'statement', 'id': 'Q59517993$97BAB357-A693-483D-B402-D45A3649E687', 'rank': 'normal', 'qualifiers': {'P1932': [{'snaktype': 'value', 'property': 'P1932', 'datatype': 'string', 'datavalue': {'value': 'Daniel Garijo', 'type': 'string'}}], 'P1545': [{'snaktype': 'value', 'property': 'P1545', 'datatype': 'string', 'datavalue': {'value': '1', 'type': 'string'}}]}, 'qualifiers-order': ['P1932', 'P1545']}], 'P407': [{'mainsnak': {'snaktype': 'value', 'property': 'P407', 'datatype': 'wikibase-item', 'datavalue': {'value': {'entity-type': 'item', 'numeric-id': 1860, 'id': 'Q1860'}, 'type': 'wikibase-entityid'}}, 'type': 'statement', 'id': 'Q59517993$7C281D42-339C-4DC5-8918-566B0408A729', 'rank': 'normal'}], 'P921': [{'mainsnak': {'snaktype': 'value', 'property': 'P921', 'datatype': 'wikibase-item', 'datavalue': {'value': {'entity-type': 'item', 'numeric-id': 324254, 'id': 'Q324254'}, 'type': 'wikibase-entityid'}}, 'type': 'statement', 'id': 'Q59517993$E7F15843-1441-473D-93DF-12F37DF6F443', 'rank': 'normal', 'references': [{'snaks': {'P887': [{'snaktype': 'value', 'property': 'P887', 'datatype': 'wikibase-item', 'datavalue': {'value': {'entity-type': 'item', 'numeric-id': 69652283, 'id': 'Q69652283'}, 'type': 'wikibase-entityid'}}]}, 'snaks-order': ['P887']}]}], 'P8978': [{'mainsnak': {'snaktype': 'value', 'property': 'P8978', 'datatype': 'external-id', 'datavalue': {'value': 'conf/semweb/Garijo17', 'type': 'string'}}, 'type': 'statement', 'id': 'Q59517993$1B48327A-323D-453B-938B-9AB7093418A7', 'rank': 'normal', 'references': [{'snaks': {'P248': [{'snaktype': 'value', 'property': 'P248', 'datatype': 'wikibase-item', 'datavalue': {'value': {'entity-type': 'item', 'numeric-id': 105160373, 'id': 'Q105160373'}, 'type': 'wikibase-entityid'}}], 'P813': [{'snaktype': 'value', 'property': 'P813', 'datatype': 'time', 'datavalue': {'value': {'time': '+2021-01-28T00:00:00Z', 'timezone': 0, 'before': 0, 'after': 0, 'precision': 11, 'calendarmodel': 'http://www.wikidata.org/entity/Q1985727'}, 'type': 'time'}}]}, 'snaks-order': ['P248', 'P813']}]}], 'P1104': [{'mainsnak': {'snaktype': 'value', 'property': 'P1104', 'datatype': 'quantity', 'datavalue': {'value': {'amount': '+9', 'unit': '1'}, 'type': 'quantity'}}, 'type': 'statement', 'id': 'Q59517993$41CF8EC7-410E-4B0E-B47B-1126E7C05C0F', 'rank': 'normal', 'references': [{'snaks': {'P887': [{'snaktype': 'value', 'property': 'P887', 'datatype': 'wikibase-item', 'datavalue': {'value': {'entity-type': 'item', 'numeric-id': 110768064, 'id': 'Q110768064'}, 'type': 'wikibase-entityid'}}]}, 'snaks-order': ['P887']}]}], 'P2860': [{'mainsnak': {'snaktype': 'value', 'property': 'P2860', 'datatype': 'wikibase-item', 'datavalue': {'value': {'entity-type': 'item', 'numeric-id': 56460278, 'id': 'Q56460278'}, 'type': 'wikibase-entityid'}}, 'type': 'statement', 'id': 'Q59517993$F81D4D16-5EF5-474A-8B1B-80F508A6B697', 'rank': 'normal', 'references': [{'snaks': {'P248': [{'snaktype': 'value', 'property': 'P248', 'datatype': 'wikibase-item', 'datavalue': {'value': {'entity-type': 'item', 'numeric-id': 107507940, 'id': 'Q107507940'}, 'type': 'wikibase-entityid'}}], 'P854': [{'snaktype': 'value', 'property': 'P854', 'datatype': 'url', 'datavalue': {'value': 'https://opencitations.net/index/coci/api/v1/citations/10.1007/978-3-642-33876-2_35', 'type': 'string'}}], 'P813': [{'snaktype': 'value', 'property': 'P813', 'datatype': 'time', 'datavalue': {'value': {'time': '+2023-02-11T00:00:00Z', 'timezone': 0, 'before': 0, 'after': 0, 'precision': 11, 'calendarmodel': 'http://www.wikidata.org/entity/Q1985727'}, 'type': 'time'}}]}, 'snaks-order': ['P248', 'P854', 'P813']}]}]}, 'id': 'Q59517993'} \n",
      "\n"
     ]
    },
    {
     "data": {
      "text/plain": [
       "'#Optional: download jsons for better visualization\\n\\nf = open(\"art.json\", \"w\")\\nf.write(str(article_wikidata_item.get_json()))\\nf.close()\\n\\n'"
      ]
     },
     "execution_count": 54,
     "metadata": {},
     "output_type": "execute_result"
    }
   ],
   "source": [
    "from wikibaseintegrator import WikibaseIntegrator\n",
    "from wikibaseintegrator.wbi_config import config as wbi_config\n",
    "\n",
    "#Defaulting to wikidata config in case we change the target graph\n",
    "wbi_config['MEDIAWIKI_API_URL'] = 'https://www.wikidata.org/w/api.php'\n",
    "wbi_config['SPARQL_ENDPOINT_URL'] = 'https://query.wikidata.org/'\n",
    "wbi_config['WIKIBASE_URL'] = 'https://www.wikidata.org'\n",
    "\n",
    "wbi = WikibaseIntegrator()\n",
    "\n",
    "scientific_article='Q59517993'\n",
    "software='Q22681943'\n",
    "\n",
    "article_wikidata_item = wbi.item.get(entity_id=scientific_article)\n",
    "\n",
    "software_wikidata_item = wbi.item.get(entity_id=software)\n",
    "\n",
    "# to check successful installation and retrieval of the data, we can print the representation of both items\n",
    "print('ARTICLE\\n', article_wikidata_item.get_json(), '\\n')\n",
    "#print('SOFTWARE\\n', software_wikidata_item.get_json())\n",
    "\n",
    "'''#Optional: download jsons for better visualization\n",
    "\n",
    "f = open(\"art.json\", \"w\")\n",
    "f.write(str(article_wikidata_item.get_json()))\n",
    "f.close()\n",
    "\n",
    "'''\n",
    "\n",
    "\n",
    "#Visualize the results"
   ]
  },
  {
   "cell_type": "markdown",
   "metadata": {
    "id": "xfnHBuH6BpV5"
   },
   "source": [
    "#### Login\n",
    "To edit items in Wikidata, we must first log in. These lines will allow the script to 'impersonate' us when doing edits. Ideally, we should have a bot account to log in using OAuth"
   ]
  },
  {
   "cell_type": "code",
   "execution_count": 55,
   "metadata": {
    "id": "-CoMcfn-DT35"
   },
   "outputs": [],
   "source": [
    "from wikibaseintegrator.wbi_config import config as wbi_config\n",
    "from wikibaseintegrator import wbi_login\n",
    "\n",
    "\n",
    "#Change these to a valid username and password in wikidata\n",
    "wikidata_user=\"<your-wikidata-username>\"\n",
    "wikidata_pwd=\"<your-wikidata-password>\"\n",
    "\n",
    "\n",
    "#change the USER_AGENT config parameter to edit the User-Agent header. See https://www.wikidata.org/wiki/Wikidata:Data_access for more info\n",
    "wbi_config['USER_AGENT'] = 'MyWikibaseBot/1.0 (https://www.wikidata.org/wiki/User:TrialAndError2)'\n",
    "\n",
    "#change username and password to your own account login data on Wikidata\n",
    "login_instance = wbi_login.Clientlogin(user=wikidata_user, password=wikidata_pwd)"
   ]
  },
  {
   "cell_type": "markdown",
   "metadata": {},
   "source": [
    "#### Upload changes to wikidata"
   ]
  },
  {
   "cell_type": "code",
   "execution_count": null,
   "metadata": {},
   "outputs": [],
   "source": []
  },
  {
   "cell_type": "markdown",
   "metadata": {
    "id": "Tna7S5k0uElH"
   },
   "source": [
    "### Uploading Wikidata entities to you local wikibase\n"
   ]
  },
  {
   "cell_type": "markdown",
   "metadata": {},
   "source": [
    "#### Getting entities from wikidata\n",
    "\n",
    "In this case, we will get the entities using sparql queries from wikidata. Keep in mind that you need to be logged in wikidata before executing the next lines."
   ]
  },
  {
   "cell_type": "code",
   "execution_count": 56,
   "metadata": {},
   "outputs": [
    {
     "name": "stdout",
     "output_type": "stream",
     "text": [
      "1178 Irmela\n"
     ]
    }
   ],
   "source": [
    "from wikidataintegrator import wdi_core\n",
    "\n",
    "# SPARQL query to fetch entities\n",
    "sparql_query = \"\"\"\n",
    "SELECT DISTINCT ?item WHERE {\n",
    "  ?item wdt:P31 wd:Q13442814.\n",
    "}\n",
    "LIMIT 1\n",
    "\"\"\"\n",
    "\n",
    "# Execute the query\n",
    "\n",
    "results = wdi_core.WDItemEngine.execute_sparql_query(sparql_query)\n",
    "\n",
    "# The line before provides the entity URIs of the selected items. To acces their statements, we need to retrieve them using WDItemEngine\n",
    "\n",
    "for result in results[\"results\"][\"bindings\"]:\n",
    "    entity_id = result[\"item\"][\"value\"].split(\"/\")[-1]\n",
    "    \n",
    "    #retrieving the items by URI\n",
    "    entity = wdi_core.WDItemEngine(wd_item_id=entity_id)\n",
    "    \n",
    "    #printing the labels of the returned items\n",
    "    print(entity.get_wd_json_representation()['labels']['en']['value'])\n",
    "    "
   ]
  },
  {
   "cell_type": "markdown",
   "metadata": {},
   "source": [
    "#### Changing the configuration to target the local wikibase\n",
    "After retrieving the desired items, we need to indicate to WikibaseIntegrator the configuration of our local wikibase. The following code changes the configuration to the default config of a local wikibase deployed on docker using https://github.com/wmde/wikibase-release-pipeline/tree/main/example. After that, it retrieves one entity to check if the connection has been succesful."
   ]
  },
  {
   "cell_type": "code",
   "execution_count": 57,
   "metadata": {
    "id": "2FWZIcvouM2h"
   },
   "outputs": [
    {
     "name": "stdout",
     "output_type": "stream",
     "text": [
      "Q1:  {'labels': {'en': {'language': 'en', 'value': 'asd'}}, 'descriptions': {'en': {'language': 'en', 'value': 'desde'}}, 'aliases': {}, 'type': 'item', 'claims': {}, 'id': 'Q1'}\n"
     ]
    }
   ],
   "source": [
    "from wikibaseintegrator import WikibaseIntegrator\n",
    "from wikibaseintegrator.wbi_config import config as wbi_config\n",
    "\n",
    "#Changing wbi configuration to target local wikibase\n",
    "#CHANGE THIS TO YOUR DEPLOYMENT'S SPECIFIC URLs\n",
    "wbi_config['MEDIAWIKI_API_URL'] = 'http://localhost:80/api.php'\n",
    "wbi_config['SPARQL_ENDPOINT_URL'] = 'http://localhost:8834/proxy/wdqs/bigdata/namespace/wdq/sparql'\n",
    "wbi_config['WIKIBASE_URL'] = 'http://localhost:80'\n",
    "\n",
    "\n",
    "#Getting Q1 from the local wikibase. \n",
    "#Q1 must be a valid entity in your local wikibase\n",
    "entity='Q1'\n",
    "\n",
    "wbi = WikibaseIntegrator()\n",
    "\n",
    "item1 = wbi.item.get(entity_id=entity)\n",
    "\n",
    "print('Q1: ', item1.get_json())\n",
    "#print(item1)\n",
    "\n",
    "#print(item1.get)\n",
    "#print([method_name for method_name in dir(item1) if callable(getattr(item1, method_name))])\n",
    "\n",
    "\n"
   ]
  },
  {
   "cell_type": "markdown",
   "metadata": {},
   "source": [
    "#### Logging in into your local wikibase\n",
    "\n",
    "The procces is the same as when logging into Wikidata. Change your user and password accordingly, as well as the user URL in the USER_AGENT config parameter"
   ]
  },
  {
   "cell_type": "code",
   "execution_count": 58,
   "metadata": {},
   "outputs": [],
   "source": [
    "from wikibaseintegrator.wbi_config import config as wbi_config\n",
    "from wikibaseintegrator import wbi_login\n",
    "\n",
    "#Change these to a valid username and password on your local wikibase\n",
    "wikibase_user=\"<your-wikibase-username>\"\n",
    "wikibase_pwd=\"<your-wikibase-password>\"\n",
    "\n",
    "#change the USER_AGENT config parameter to edit the User-Agent header. See https://www.wikidata.org/wiki/Wikidata:Data_access for more info\n",
    "wbi_config['USER_AGENT'] = 'MyWikibaseBot/1.0 (http://localhost/wiki/User:<your-wikibase-username>)'\n",
    "\n",
    "#change username and password to your own account login data on Wikidata\n",
    "login_instance = wbi_login.Clientlogin(user=wikibase_user, password=wikibase_pwd)"
   ]
  },
  {
   "cell_type": "markdown",
   "metadata": {},
   "source": [
    "#### Creating entities in your local wikibase\n",
    "\n",
    "One defect of the WikibaseIntegrator approach is that there is no way to import the entities directly. Instead, we have to create a new entity and create the same statements it has on Wikidata. The following code creates a new entity in the local wikibase, aasigns it the label obtained from its entity in Wikidata and adds the \"instance_of scholarly article statement\". Notice that, in order to make this work, we have to create the entiity \"scholarly article\" and the property \"instance_of\" in the wikibase beforehand."
   ]
  },
  {
   "cell_type": "code",
   "execution_count": 59,
   "metadata": {},
   "outputs": [],
   "source": [
    "\n",
    "from wikibaseintegrator.datatypes import ExternalID, Item, String, Time\n",
    "\n",
    "wbi = WikibaseIntegrator(login=wb_login_instance)\n",
    "\n",
    "\n",
    "for result in results[\"results\"][\"bindings\"]:\n",
    "    #Parse the results from the sparql query\n",
    "    entity_id = result[\"item\"][\"value\"].split(\"/\")[-1]\n",
    "    \n",
    "    #Get the entity from wikidata\n",
    "    entity = wdi_core.WDItemEngine(wd_item_id=entity_id)\n",
    "    ent_json= entity.get_wd_json_representation()\n",
    "    \n",
    "    #Create the new entity\n",
    "    item = wbi.item.new()\n",
    "    \n",
    "    #Assign the same label it has on wikidata\n",
    "    item.labels.set(language='en', value=ent_json['labels']['en']['value'])\n",
    "    \n",
    "    #Add the \"instance_of scholarly article\" statement\n",
    "    instance = Item(value='Q2', prop_nr='P1')\n",
    "    \n",
    "    #statements go into a list, since multiple statements can be added at once\n",
    "    data=[instance]\n",
    "    item.claims.add(data)\n",
    "    item.write()\n",
    "\n"
   ]
  },
  {
   "cell_type": "markdown",
   "metadata": {},
   "source": [
    "Notice that, since a new item is created each time we import an entity, importing the same Wikidata entity multiple times will create multiple instances of the same entity on the local wikibase.\n",
    "\n",
    "#### Using mappings to avoid multiple entity creation\n",
    "\n",
    "The following code will create a JSON mapping which will link a wikidata QNode with the local wikibase Qnode"
   ]
  },
  {
   "cell_type": "code",
   "execution_count": 101,
   "metadata": {},
   "outputs": [
    {
     "name": "stdout",
     "output_type": "stream",
     "text": [
      "{'Q136796': 'Q53'}\n"
     ]
    }
   ],
   "source": [
    "\n",
    "import json\n",
    "import os\n",
    "\n",
    "filename = 'mapping.json'\n",
    "\n",
    "if not os.path.exists(filename):\n",
    "    # If the file doesn't exist, create an empty mapping\n",
    "    with open(filename, 'w') as f:\n",
    "        json.dump({}, f)\n",
    "\n",
    "with open(filename, 'r+') as f:\n",
    "    mapping = json.load(f)\n",
    "    \n",
    "\n",
    "\n",
    "\n",
    "print(mapping)\n",
    "\n"
   ]
  },
  {
   "cell_type": "code",
   "execution_count": 102,
   "metadata": {},
   "outputs": [
    {
     "name": "stdout",
     "output_type": "stream",
     "text": [
      "Q136796  is already imported as  Q53\n",
      "{'Q136796': 'Q53'}\n"
     ]
    }
   ],
   "source": [
    "for result in results[\"results\"][\"bindings\"]:\n",
    "    #Parse the results from the sparql query\n",
    "    entity_id = result[\"item\"][\"value\"].split(\"/\")[-1]\n",
    "    \n",
    "    \n",
    "    if entity_id not in mapping.keys():\n",
    "        #Get the entity from wikidata\n",
    "        entity = wdi_core.WDItemEngine(wd_item_id=entity_id)\n",
    "        ent_json= entity.get_wd_json_representation()\n",
    "    \n",
    "    \n",
    "    \n",
    "        #Create the new entity\n",
    "        item = wbi.item.new()\n",
    "    \n",
    "        #print([method_name for method_name in dir(item) if callable(getattr(item1, method_name))])\n",
    "        \n",
    "        \n",
    "        #Assign the same label it has on wikidata\n",
    "        item.labels.set(language='en', value=ent_json['labels']['en']['value'])\n",
    "    \n",
    "        #Add the \"instance_of scholarly article\" statement\n",
    "        instance = Item(value='Q2', prop_nr='P1')\n",
    "    \n",
    "        #statements go into a list, since multiple statements can be added at once\n",
    "        data=[instance]\n",
    "        item.claims.add(data)\n",
    "        item = item.write()\n",
    "        #print(item.get_json()['id'])\n",
    "        mapping.update({entity_id:item.get_json()['id']})\n",
    "        \n",
    "    else:\n",
    "        print(entity_id,' is already imported as ', mapping[entity_id])\n",
    "        item = wbi.item.new()\n",
    "        item = item.get(mapping[entity_id])\n",
    "        #print([method_name for method_name in dir(item) if callable(getattr(item1, method_name))])\n",
    "        #print(item.get_json())\n",
    "\n",
    "\n",
    "with open(filename, 'w') as f:\n",
    "    json.dump(mapping, f)\n"
   ]
  },
  {
   "cell_type": "markdown",
   "metadata": {},
   "source": [
    "### Additional testing\n",
    "These are other different approaches to import entities from wikidata without usinf WikidataIntegrator or WikibaseIntegrator. However, this is still a work in progress and none of them work\n",
    "\n",
    "#### Using requests and the API"
   ]
  },
  {
   "cell_type": "code",
   "execution_count": null,
   "metadata": {},
   "outputs": [],
   "source": [
    "#Download the mediawiki library\n",
    "!pip install git+https://github.com/barrust/mediawiki.git"
   ]
  },
  {
   "cell_type": "code",
   "execution_count": null,
   "metadata": {},
   "outputs": [],
   "source": [
    "\n",
    "\n",
    "import requests\n",
    "from wikidataintegrator import wdi_core, ref_handlers\n",
    "from mediawiki import MediaWikiSession\n",
    "\n",
    "\n",
    "# Replace these values with your Wikidata and Wikibase installation details\n",
    "WIKIDATA_API_ENDPOINT = \"https://www.wikidata.org/w/api.php\"\n",
    "WIKIBASE_API_ENDPOINT = \"http://localhost:80/w/api.php\"\n",
    "\n",
    "\n",
    "\n",
    "# Set up authentication for Wikidata\n",
    "session = requests.Session()\n",
    "login_token_response = session.get(WIKIDATA_API_ENDPOINT, params={\n",
    "    \"action\": \"query\",\n",
    "    \"meta\": \"tokens\",\n",
    "    \"type\": \"login\",\n",
    "    \"format\": \"json\"\n",
    "})\n",
    "login_token = login_token_response.json()[\"query\"][\"tokens\"][\"logintoken\"]\n",
    "login_response = session.post(WIKIDATA_API_ENDPOINT, data={\n",
    "    \"action\": \"login\",\n",
    "    \"lgname\": wikidata_user,\n",
    "    \"lgpassword\": wikidata_pwd,\n",
    "    \"lgtoken\": login_token,\n",
    "    \"format\": \"json\"\n",
    "})\n",
    "if not login_response.json()[\"login\"][\"result\"] == \"Success\":\n",
    "    raise ValueError(\"Unable to authenticate with Wikidata\")\n",
    "\n",
    "# Set up authentication for local Wikibase\n",
    "local_session = MediaWikiSession(WIKIBASE_API_ENDPOINT)\n",
    "local_session.login(user=wikibase_user, password=wikibase_pwd)\n",
    "\n",
    "# Define function to download and upload an entity\n",
    "def download_and_upload_entity(entity_id):\n",
    "    # Download entity from Wikidata\n",
    "    entity = wdi_core.WDItemEngine(wd_item_id=entity_id)\n",
    "    entity.get_wd_json_representation(api_endpoint=WIKIDATA_API_ENDPOINT)\n",
    "\n",
    "    # Upload entity to local Wikibase\n",
    "    data = {\n",
    "        \"action\": \"wbeditentity\",\n",
    "        \"id\": entity_id,\n",
    "        \"data\": entity.wd_json_representation,\n",
    "        \"format\": \"json\",\n",
    "        \"token\": local_session.get_token(\"edit\")\n",
    "    }\n",
    "    response = local_session.post(WIKIBASE_API_ENDPOINT, data=data)\n",
    "    if response.json().get(\"success\") != 1:\n",
    "        raise ValueError(f\"Error uploading entity {entity_id} to Wikibase\")\n",
    "\n",
    "    print(f\"Entity {entity_id} successfully uploaded to Wikibase\")\n",
    "\n",
    "# Example usage: download and upload Q42 (Douglas Adams)\n",
    "download_and_upload_entity(\"Q42\")\n"
   ]
  },
  {
   "cell_type": "markdown",
   "metadata": {},
   "source": [
    "#### Using RaiseWikibase"
   ]
  },
  {
   "cell_type": "markdown",
   "metadata": {},
   "source": [
    "#### Using Pywikibot"
   ]
  }
 ],
 "metadata": {
  "colab": {
   "provenance": []
  },
  "kernelspec": {
   "display_name": "Python 3 (ipykernel)",
   "language": "python",
   "name": "python3"
  },
  "language_info": {
   "codemirror_mode": {
    "name": "ipython",
    "version": 3
   },
   "file_extension": ".py",
   "mimetype": "text/x-python",
   "name": "python",
   "nbconvert_exporter": "python",
   "pygments_lexer": "ipython3",
   "version": "3.10.7"
  }
 },
 "nbformat": 4,
 "nbformat_minor": 1
}
